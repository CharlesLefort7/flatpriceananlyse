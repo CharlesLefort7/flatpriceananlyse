{
 "cells": [
  {
   "cell_type": "code",
   "execution_count": 2,
   "metadata": {},
   "outputs": [],
   "source": [
    "import os\n",
    "import pandas as pd\n",
    "import csv"
   ]
  },
  {
   "cell_type": "code",
   "execution_count": 3,
   "metadata": {},
   "outputs": [],
   "source": [
    "def getCSVFileName(originPath):\n",
    "    ''' get all file name under originPath '''\n",
    "    f_list_csv = []\n",
    "    f_list = os.listdir(originPath)\n",
    "    # print f_list\n",
    "    for i in f_list:\n",
    "        # os.path.splitext():分离文件名与扩展名\n",
    "        if os.path.splitext(i)[1] == '.csv':\n",
    "            f_list_csv.append(os.path.splitext(i)[0])\n",
    "    return f_list_csv"
   ]
  },
  {
   "cell_type": "code",
   "execution_count": 4,
   "metadata": {},
   "outputs": [
    {
     "name": "stdout",
     "output_type": "stream",
     "text": [
      " f_list_csv :  ['20180530_prop_for_sale_tom_classifieds_Cleaned', '20151005_prop_for_sale_tom_classifieds_Cleaned', '20160125_prop_for_sale_tom_classifieds_Cleaned', '20200327_prop_for_sale_tom_classifieds_Cleaned', '20181024_prop_for_sale_tom_classifieds_Cleaned', '20180516_prop_for_sale_tom_classifieds_Cleaned', '20170911_prop_for_sale_tom_classifieds_Cleaned', '20180509_prop_for_sale_tom_classifieds_Cleaned', '20180222_prop_for_sale_tom_classifieds_Cleaned', '20191023_prop_for_sale_tom_classifieds_Cleaned', '20180326_prop_for_sale_tom_classifieds_Cleaned', '20191127_prop_for_sale_tom_classifieds_Cleaned', '20161227_prop_for_sale_tom_classifieds_Cleaned', '20180627_prop_for_sale_tom_classifieds_Cleaned', '20160611_prop_for_sale_tom_classifieds_Cleaned', '20180723_prop_for_sale_tom_classifieds_Cleaned', '20180919_prop_for_sale_tom_classifieds_Cleaned', '20180704_prop_for_sale_tom_classifieds_Cleaned', '20161108_prop_for_sale_tom_classifieds_Cleaned', '20171218_prop_for_sale_tom_classifieds_Cleaned', '20160908_prop_for_sale_tom_classifieds_Cleaned', '20160215_prop_for_sale_tom_classifieds_Cleaned', '20200113_prop_for_sale_tom_classifieds_Cleaned', '20180301_prop_for_sale_tom_classifieds_Cleaned', '20170404_prop_for_sale_tom_classifieds_Cleaned', '20180205_prop_for_sale_tom_classifieds_Cleaned', '20181003_prop_for_sale_tom_classifieds_Cleaned', '20170713_prop_for_sale_tom_classifieds_Cleaned', '20160328_prop_for_sale_tom_classifieds_Cleaned', '20160425_prop_for_sale_tom_classifieds_Cleaned', '20160629_prop_for_sale_tom_classifieds_Cleaned', '20200601_prop_for_sale_tom_classifieds_Cleaned', '20191120_prop_for_sale_tom_classifieds_Cleaned', '20161206_prop_for_sale_tom_classifieds_Cleaned', '20180606_prop_for_sale_tom_classifieds_Cleaned', '20170103_prop_for_sale_tom_classifieds_Cleaned', '20161220_prop_for_sale_tom_classifieds_Cleaned', '20180620_prop_for_sale_tom_classifieds_Cleaned', '20180528_prop_for_sale_tom_classifieds_Cleaned', '20191211_prop_for_sale_tom_classifieds_Cleaned', '20171227_prop_for_sale_tom_classifieds_Cleaned', '20160815_prop_for_sale_tom_classifieds_Cleaned', '20151228_prop_for_sale_tom_classifieds_Cleaned', '20160104_prop_for_sale_tom_classifieds_Cleaned', '20150824_prop_for_sale_tom_classifieds_Cleaned', '20200320_prop_for_sale_tom_classifieds_Cleaned', '20160404_prop_for_sale_tom_classifieds_Cleaned', '20150907_prop_for_sale_tom_classifieds_Cleaned', '20200203_prop_for_sale_tom_classifieds_Cleaned', '20180926_prop_for_sale_tom_classifieds_Cleaned', '20180822_prop_for_sale_tom_classifieds_Cleaned', '20181022_prop_for_sale_tom_classifieds_Cleaned', '20180618_prop_for_sale_tom_classifieds_Cleaned', '20150921_prop_for_sale_tom_classifieds_Cleaned', '20200511_prop_for_sale_tom_classifieds_Cleaned', '20170425_prop_for_sale_tom_classifieds_Cleaned', '20150722_prop_for_sale_tom_classifieds_Cleaned', '20170124_prop_for_sale_tom_classifieds_Cleaned', '20161129_prop_for_sale_tom_classifieds_Cleaned', '20170328_prop_for_sale_tom_classifieds_Cleaned', '20150423_prop_for_sale_tom_classifieds_Cleaned', '20170606_prop_for_sale_tom_classifieds_Cleaned', '20150527_prop_for_sale_tom_classifieds_Cleaned', '20180103_prop_for_sale_tom_classifieds_Cleaned', '20161024_prop_for_sale_tom_classifieds_Cleaned', '20160516_prop_for_sale_tom_classifieds_Cleaned', '20200714_prop_for_sale_tom_classifieds_Cleaned', '20180125_prop_for_sale_tom_classifieds_Cleaned', '20170620_prop_for_sale_tom_classifieds_Cleaned', '20200518_prop_for_sale_tom_classifieds_Cleaned', '20161002_prop_for_sale_tom_classifieds_Cleaned', '20200403_prop_for_sale_tom_classifieds_Cleaned', '20150928_prop_for_sale_tom_classifieds_Cleaned', '20171127_prop_for_sale_tom_classifieds_Cleaned', '20160222_prop_for_sale_tom_classifieds_Cleaned', '20160509_prop_for_sale_tom_classifieds_Cleaned', '20151221_prop_for_sale_tom_classifieds_Cleaned', '20150617_prop_for_sale_tom_classifieds_Cleaned', '20170319_prop_for_sale_tom_classifieds_Cleaned', '20180215_prop_for_sale_tom_classifieds_Cleaned', '20200424_prop_for_sale_tom_classifieds_Cleaned', '20151207_prop_for_sale_tom_classifieds_Cleaned', '20180813_prop_for_sale_tom_classifieds_Cleaned', '20180425_prop_for_sale_tom_classifieds_Cleaned', '20170224_prop_for_sale_tom_classifieds_Cleaned', '20160620_prop_for_sale_tom_classifieds_Cleaned', '20160307_prop_for_sale_tom_classifieds_Cleaned', '20171106_prop_for_sale_tom_classifieds_Cleaned', '20150715_prop_for_sale_tom_classifieds_Cleaned', '20200608_prop_for_sale_tom_classifieds_Cleaned', '20170530_prop_for_sale_tom_classifieds_Cleaned', '20171002_prop_for_sale_tom_classifieds_Cleaned', '20151109_prop_for_sale_tom_classifieds_Cleaned', '20170516_prop_for_sale_tom_classifieds_Cleaned', '20160321_prop_for_sale_tom_classifieds_Cleaned', '20171120_prop_for_sale_tom_classifieds_Cleaned', '20180423_prop_for_sale_tom_classifieds_Cleaned', '20181015_prop_for_sale_tom_classifieds_Cleaned', '20151012_prop_for_sale_tom_classifieds_Cleaned', '20150520_prop_for_sale_tom_classifieds_Cleaned', '20180815_prop_for_sale_tom_classifieds_Cleaned', '20151116_prop_for_sale_tom_classifieds_Cleaned', '20180308_prop_for_sale_tom_classifieds_Cleaned', '20170509_prop_for_sale_tom_classifieds_Cleaned', '20161101_prop_for_sale_tom_classifieds_Cleaned', '20151130_prop_for_sale_tom_classifieds_Cleaned', '20170627_prop_for_sale_tom_classifieds_Cleaned', '20180122_prop_for_sale_tom_classifieds_Cleaned', '20171211_prop_for_sale_tom_classifieds_Cleaned', '20160822_prop_for_sale_tom_classifieds_Cleaned', '20170704_prop_for_sale_tom_classifieds_Cleaned', '20200630_prop_for_sale_tom_classifieds_Cleaned', '20180404_prop_for_sale_tom_classifieds_Cleaned', '20170918_prop_for_sale_tom_classifieds_Cleaned', '20160804_prop_for_sale_tom_classifieds_Cleaned', '20150610_prop_for_sale_tom_classifieds_Cleaned', '20200501_prop_for_sale_tom_classifieds_Cleaned', '20180212_prop_for_sale_tom_classifieds_Cleaned', '20150807_prop_for_sale_tom_classifieds_Cleaned', '20180219_prop_for_sale_tom_classifieds_Cleaned', '20170418_prop_for_sale_tom_classifieds_Cleaned', '20180514_prop_for_sale_tom_classifieds_Cleaned', '20171204_prop_for_sale_tom_classifieds_Cleaned', '20171113_prop_for_sale_tom_classifieds_Cleaned', '20200218_prop_for_sale_tom_classifieds_Cleaned', '20151214_prop_for_sale_tom_classifieds_Cleaned', '20150701_prop_for_sale_tom_classifieds_Cleaned', '20200410_prop_for_sale_tom_classifieds_Cleaned', '20180129_prop_for_sale_tom_classifieds_Cleaned', '20151019_prop_for_sale_tom_classifieds_Cleaned', '20170502_prop_for_sale_tom_classifieds_Cleaned', '20171030_prop_for_sale_tom_classifieds_Cleaned', '20180801_prop_for_sale_tom_classifieds_Cleaned', '20151102_prop_for_sale_tom_classifieds_Cleaned', '20150430_prop_for_sale_tom_classifieds_Cleaned', '20180905_prop_for_sale_tom_classifieds_Cleaned', '20180110_prop_for_sale_tom_classifieds_Cleaned', '20180411_prop_for_sale_tom_classifieds_Cleaned', '20161115_prop_for_sale_tom_classifieds_Cleaned', '20150512_prop_for_sale_tom_classifieds_Cleaned', '20200707_prop_for_sale_tom_classifieds_Cleaned', '20160208_prop_for_sale_tom_classifieds_Cleaned', '20180827_prop_for_sale_tom_classifieds_Cleaned', '20160915_prop_for_sale_tom_classifieds_Cleaned', '20150603_prop_for_sale_tom_classifieds_Cleaned', '20180604_prop_for_sale_tom_classifieds_Cleaned', '20180305_prop_for_sale_tom_classifieds_Cleaned', '20180201_prop_for_sale_tom_classifieds_Cleaned', '20160418_prop_for_sale_tom_classifieds_Cleaned', '20170613_prop_for_sale_tom_classifieds_Cleaned', '20151026_prop_for_sale_tom_classifieds_Cleaned', '20170312_prop_for_sale_tom_classifieds_Cleaned', '20161017_prop_for_sale_tom_classifieds_Cleaned', '20160525_prop_for_sale_tom_classifieds_Cleaned', '20160830_prop_for_sale_tom_classifieds_Cleaned', '20160229_prop_for_sale_tom_classifieds_Cleaned', '20180806_prop_for_sale_tom_classifieds_Cleaned', '20200622_prop_for_sale_tom_classifieds_Cleaned', '20180430_prop_for_sale_tom_classifieds_Cleaned', '20160502_prop_for_sale_tom_classifieds_Cleaned', '20200305_prop_for_sale_tom_classifieds_Cleaned', '20170828_prop_for_sale_tom_classifieds_Cleaned', '20151123_prop_for_sale_tom_classifieds_Cleaned', '20180820_prop_for_sale_tom_classifieds_Cleaned', '20160728_prop_for_sale_tom_classifieds_Cleaned', '20180416_prop_for_sale_tom_classifieds_Cleaned', '20200227_prop_for_sale_tom_classifieds_Cleaned', '20170217_prop_for_sale_tom_classifieds_Cleaned', '20160314_prop_for_sale_tom_classifieds_Cleaned', '20180226_prop_for_sale_tom_classifieds_Cleaned', '20200417_prop_for_sale_tom_classifieds_Cleaned', '20160118_prop_for_sale_tom_classifieds_Cleaned', '20180322_prop_for_sale_tom_classifieds_Cleaned', '20170523_prop_for_sale_tom_classifieds_Cleaned', '20170208_prop_for_sale_tom_classifieds_Cleaned', '20180409_prop_for_sale_tom_classifieds_Cleaned', '20161009_prop_for_sale_tom_classifieds_Cleaned', '20150624_prop_for_sale_tom_classifieds_Cleaned', '20160711_prop_for_sale_tom_classifieds_Cleaned', '20191204_prop_for_sale_tom_classifieds_Cleaned', '20161122_prop_for_sale_tom_classifieds_Cleaned', '20181010_prop_for_sale_tom_classifieds_Cleaned', '20160111_prop_for_sale_tom_classifieds_Cleaned', '20150831_prop_for_sale_tom_classifieds_Cleaned', '20180829_prop_for_sale_tom_classifieds_Cleaned', '20161213_prop_for_sale_tom_classifieds_Cleaned', '20160721_prop_for_sale_tom_classifieds_Cleaned', '20180613_prop_for_sale_tom_classifieds_Cleaned', '20180312_prop_for_sale_tom_classifieds_Cleaned', '20170821_prop_for_sale_tom_classifieds_Cleaned', '20170925_prop_for_sale_tom_classifieds_Cleaned', '20170117_prop_for_sale_tom_classifieds_Cleaned', '20200127_prop_for_sale_tom_classifieds_Cleaned', '20180716_prop_for_sale_tom_classifieds_Cleaned', '20160602_prop_for_sale_tom_classifieds_Cleaned', '20170131_prop_for_sale_tom_classifieds_Cleaned', '20180208_prop_for_sale_tom_classifieds_Cleaned', '20150816_prop_for_sale_tom_classifieds_Cleaned', '20160411_prop_for_sale_tom_classifieds_Cleaned', '20180523_prop_for_sale_tom_classifieds_Cleaned', '20200312_prop_for_sale_tom_classifieds_Cleaned', '20170304_prop_for_sale_tom_classifieds_Cleaned', '20180709_prop_for_sale_tom_classifieds_Cleaned', '20170904_prop_for_sale_tom_classifieds_Cleaned', '20180418_prop_for_sale_tom_classifieds_Cleaned', '20160201_prop_for_sale_tom_classifieds_Cleaned', '20181008_prop_for_sale_tom_classifieds_Cleaned', '20180315_prop_for_sale_tom_classifieds_Cleaned', '20150731_prop_for_sale_tom_classifieds_Cleaned', '20180808_prop_for_sale_tom_classifieds_Cleaned', '20150914_prop_for_sale_tom_classifieds_Cleaned', '20181017_prop_for_sale_tom_classifieds_Cleaned', '20200615_prop_for_sale_tom_classifieds_Cleaned', '20150708_prop_for_sale_tom_classifieds_Cleaned', '20200211_prop_for_sale_tom_classifieds_Cleaned', '20160924_prop_for_sale_tom_classifieds_Cleaned', '20180502_prop_for_sale_tom_classifieds_Cleaned', '20170720_prop_for_sale_tom_classifieds_Cleaned', '20191224_prop_for_sale_tom_classifieds_Cleaned', '20200120_prop_for_sale_tom_classifieds_Cleaned', '20170110_prop_for_sale_tom_classifieds_Cleaned', '20200106_prop_for_sale_tom_classifieds_Cleaned', '20170411_prop_for_sale_tom_classifieds_Cleaned', '20180118_prop_for_sale_tom_classifieds_Cleaned', '20200525_prop_for_sale_tom_classifieds_Cleaned', '20191115_prop_for_sale_tom_classifieds_Cleaned']\n",
      " len  f_list_csv :  226\n"
     ]
    }
   ],
   "source": [
    "originPath = 'dataCleaned/'\n",
    "print(\" f_list_csv : \",getCSVFileName(originPath))\n",
    "print(\" len  f_list_csv : \",len(getCSVFileName(originPath)))"
   ]
  },
  {
   "cell_type": "code",
   "execution_count": 5,
   "metadata": {},
   "outputs": [],
   "source": [
    "#create csv file named path\n",
    "def create_csv(path):\n",
    "\n",
    "    with open(path, 'w', newline='') as csvfile:\n",
    "        head = ['Day_of_week', 'Month', 'Day_of_month', 'Year', 'Apartment', 'Maisonette', 'Garage','Pool','Garden', 'City','Price']\n",
    "        writer = csv.DictWriter(csvfile, fieldnames=head)\n",
    "\n",
    "        writer.writeheader()"
   ]
  },
  {
   "cell_type": "code",
   "execution_count": 6,
   "metadata": {},
   "outputs": [],
   "source": [
    "def gen_all_data_CSV(originPath):\n",
    "    files_csv = getCSVFileName(originPath)\n",
    "    outPutnameCSVFile = 'allData.csv'\n",
    "    create_csv(outPutnameCSVFile)\n",
    "    \n",
    "    #read the first CSV including the it's header\n",
    "    #print(\"files_csv[0] : \", files_csv[0])\n",
    "    dfFirstCSV = pd.read_csv(originPath+files_csv[0]+'.csv')\n",
    "        \n",
    "    #save the first CSV to destination csv\n",
    "    dfFirstCSV.to_csv(outPutnameCSVFile, index = False)\n",
    "        \n",
    "    for i in range(1,len(files_csv)):\n",
    "        df = pd.read_csv(originPath+files_csv[i]+'.csv')\n",
    "        df.to_csv(outPutnameCSVFile,index=False, header=False, mode='a+')\n",
    "\n",
    "        \n",
    "        "
   ]
  },
  {
   "cell_type": "code",
   "execution_count": 7,
   "metadata": {},
   "outputs": [],
   "source": [
    "gen_all_data_CSV(originPath)"
   ]
  },
  {
   "cell_type": "code",
   "execution_count": 8,
   "metadata": {},
   "outputs": [],
   "source": [
    "from matplotlib import pyplot as plt\n",
    "import time\n",
    "from datetime import date\n",
    "import csv\n",
    "import pandas as pd\n",
    "import numpy as np\n",
    "import statistics\n",
    "from pandas import Series, DataFrame\n",
    "import datetime"
   ]
  },
  {
   "cell_type": "code",
   "execution_count": 9,
   "metadata": {},
   "outputs": [
    {
     "data": {
      "text/html": [
       "<div>\n",
       "<style scoped>\n",
       "    .dataframe tbody tr th:only-of-type {\n",
       "        vertical-align: middle;\n",
       "    }\n",
       "\n",
       "    .dataframe tbody tr th {\n",
       "        vertical-align: top;\n",
       "    }\n",
       "\n",
       "    .dataframe thead th {\n",
       "        text-align: right;\n",
       "    }\n",
       "</style>\n",
       "<table border=\"1\" class=\"dataframe\">\n",
       "  <thead>\n",
       "    <tr style=\"text-align: right;\">\n",
       "      <th></th>\n",
       "      <th>Day_of_week</th>\n",
       "      <th>Month</th>\n",
       "      <th>Day_of_month</th>\n",
       "      <th>Year</th>\n",
       "      <th>Apartment</th>\n",
       "      <th>Maisonette</th>\n",
       "      <th>Garage</th>\n",
       "      <th>Pool</th>\n",
       "      <th>Garden</th>\n",
       "      <th>City</th>\n",
       "      <th>Price</th>\n",
       "      <th>PriceE</th>\n",
       "    </tr>\n",
       "  </thead>\n",
       "  <tbody>\n",
       "    <tr>\n",
       "      <th>0</th>\n",
       "      <td>Wednesday</td>\n",
       "      <td>May</td>\n",
       "      <td>30</td>\n",
       "      <td>2018</td>\n",
       "      <td>y</td>\n",
       "      <td>n</td>\n",
       "      <td>n</td>\n",
       "      <td>n</td>\n",
       "      <td>n</td>\n",
       "      <td>ATTARD</td>\n",
       "      <td>240,000</td>\n",
       "      <td>240000.0</td>\n",
       "    </tr>\n",
       "    <tr>\n",
       "      <th>1</th>\n",
       "      <td>Wednesday</td>\n",
       "      <td>May</td>\n",
       "      <td>30</td>\n",
       "      <td>2018</td>\n",
       "      <td>n</td>\n",
       "      <td>n</td>\n",
       "      <td>y</td>\n",
       "      <td>n</td>\n",
       "      <td>n</td>\n",
       "      <td>BIRKIRKARA</td>\n",
       "      <td>295,000</td>\n",
       "      <td>295000.0</td>\n",
       "    </tr>\n",
       "    <tr>\n",
       "      <th>2</th>\n",
       "      <td>Wednesday</td>\n",
       "      <td>May</td>\n",
       "      <td>30</td>\n",
       "      <td>2018</td>\n",
       "      <td>n</td>\n",
       "      <td>n</td>\n",
       "      <td>y</td>\n",
       "      <td>n</td>\n",
       "      <td>n</td>\n",
       "      <td>GOZO</td>\n",
       "      <td>385,000</td>\n",
       "      <td>385000.0</td>\n",
       "    </tr>\n",
       "    <tr>\n",
       "      <th>3</th>\n",
       "      <td>Wednesday</td>\n",
       "      <td>May</td>\n",
       "      <td>30</td>\n",
       "      <td>2018</td>\n",
       "      <td>n</td>\n",
       "      <td>n</td>\n",
       "      <td>n</td>\n",
       "      <td>n</td>\n",
       "      <td>n</td>\n",
       "      <td>GOZO</td>\n",
       "      <td>175,000</td>\n",
       "      <td>175000.0</td>\n",
       "    </tr>\n",
       "    <tr>\n",
       "      <th>4</th>\n",
       "      <td>Wednesday</td>\n",
       "      <td>May</td>\n",
       "      <td>30</td>\n",
       "      <td>2018</td>\n",
       "      <td>y</td>\n",
       "      <td>n</td>\n",
       "      <td>y</td>\n",
       "      <td>n</td>\n",
       "      <td>n</td>\n",
       "      <td>LIJA</td>\n",
       "      <td>285,000</td>\n",
       "      <td>285000.0</td>\n",
       "    </tr>\n",
       "  </tbody>\n",
       "</table>\n",
       "</div>"
      ],
      "text/plain": [
       "  Day_of_week Month  Day_of_month  Year Apartment Maisonette Garage Pool  \\\n",
       "0   Wednesday   May            30  2018         y          n      n    n   \n",
       "1   Wednesday   May            30  2018         n          n      y    n   \n",
       "2   Wednesday   May            30  2018         n          n      y    n   \n",
       "3   Wednesday   May            30  2018         n          n      n    n   \n",
       "4   Wednesday   May            30  2018         y          n      y    n   \n",
       "\n",
       "  Garden        City    Price    PriceE  \n",
       "0      n      ATTARD  240,000  240000.0  \n",
       "1      n  BIRKIRKARA  295,000  295000.0  \n",
       "2      n        GOZO  385,000  385000.0  \n",
       "3      n        GOZO  175,000  175000.0  \n",
       "4      n        LIJA  285,000  285000.0  "
      ]
     },
     "execution_count": 9,
     "metadata": {},
     "output_type": "execute_result"
    }
   ],
   "source": [
    "df = pd.read_csv (r'allData.csv')\n",
    "\n",
    "#We observe that we can not use the price and that we need to change ',' . We create a new columns \n",
    "\n",
    "df['PriceE'] = pd.to_numeric(df['Price'].str.replace(',', ''))\n",
    "df.head()"
   ]
  },
  {
   "cell_type": "code",
   "execution_count": 10,
   "metadata": {},
   "outputs": [
    {
     "name": "stdout",
     "output_type": "stream",
     "text": [
      "       Day_of_week  Month  Day_of_month  Year Apartment Maisonette Garage  \\\n",
      "0        Wednesday    May            30  2018         y          n      n   \n",
      "20          Sunday    May            27  2018         n          n      n   \n",
      "21          Sunday    May            27  2018         n          n      y   \n",
      "22          Sunday    May            27  2018         n          n      y   \n",
      "23          Sunday    May            27  2018         n          n      y   \n",
      "...            ...    ...           ...   ...       ...        ...    ...   \n",
      "109366      Sunday  April             9  2017         y          n      y   \n",
      "109367      Sunday  April             9  2017         n          n      n   \n",
      "109368      Sunday  April             9  2017         n          n      y   \n",
      "109369      Sunday  April             9  2017         y          n      n   \n",
      "109370      Sunday  April             9  2017         n          y      y   \n",
      "\n",
      "       Pool Garden    City    Price    PriceE  \n",
      "0         n      n  ATTARD  240,000  240000.0  \n",
      "20        n      n  ATTARD      NaN       NaN  \n",
      "21        y      n  ATTARD  695,000  695000.0  \n",
      "22        y      n  ATTARD  980,000  980000.0  \n",
      "23        n      n  ATTARD  382,000  382000.0  \n",
      "...     ...    ...     ...      ...       ...  \n",
      "109366    n      n  ATTARD  140,000  140000.0  \n",
      "109367    n      n  ATTARD  180,000  180000.0  \n",
      "109368    n      n  ATTARD  530,000  530000.0  \n",
      "109369    n      n  ATTARD      NaN       NaN  \n",
      "109370    n      n  ATTARD  320,000  320000.0  \n",
      "\n",
      "[3219 rows x 12 columns]\n"
     ]
    }
   ],
   "source": [
    "#example for ATTARD, we want to see all informations about \n",
    "df_sample = pd.DataFrame(df)\n",
    "f_filter = df_sample['City']=='ATTARD'\n",
    "print(df_sample[f_filter])"
   ]
  },
  {
   "cell_type": "code",
   "execution_count": 11,
   "metadata": {},
   "outputs": [
    {
     "name": "stdout",
     "output_type": "stream",
     "text": [
      "339789.33694866236\n"
     ]
    }
   ],
   "source": [
    "#We can now have the mean of an habitation in Attard\n",
    "print(df_sample[f_filter].PriceE.mean())"
   ]
  },
  {
   "cell_type": "code",
   "execution_count": 12,
   "metadata": {},
   "outputs": [
    {
     "name": "stdout",
     "output_type": "stream",
     "text": [
      "For a maisonette, there are 15904 choices\n",
      "and the mean price for a maisonette:   230176.10441372535 €\n",
      "\n",
      "For a maisonette with pool, there are 472 choices\n",
      "and the mean price for a maisonette with pool:   347186.8965517241 €\n",
      "\n",
      "For a maisonette with garage, there are 4580 choices\n",
      "and the mean price for a apartement with a garage:   276774.7940891473 €\n",
      "\n",
      "\n",
      "\n",
      "For an appartment, there are 15904 choices\n",
      "and the mean price for a apartement:   231102.39703989704 €\n",
      "\n",
      "For an apartment with pool, there are 1043 choices\n",
      "and the mean price for a apartment with pool:   300861.13109048724 €\n",
      "\n",
      "For an apartment with garage, there are 7200 choices\n",
      "and the mean price for a apartement with a garage:   281317.2567905089 €\n"
     ]
    }
   ],
   "source": [
    "#We can now have the mean of an habitation in Malte in function if it is a maisonette, with...\n",
    "\n",
    "f_filter1 = df_sample['Maisonette']=='y'\n",
    "print(\"For a maisonette, there are\",len(df_sample[f_filter1].PriceE) ,\"choices\")\n",
    "print(\"and the mean price for a maisonette:  \", df_sample[f_filter1].PriceE.mean() , \"€\")\n",
    "print('')\n",
    "f_filter5 = (df_sample['Maisonette']=='y')&(df_sample['Pool']=='y')\n",
    "print(\"For a maisonette with pool, there are\",len(df_sample[f_filter5].PriceE) ,\"choices\")\n",
    "print(\"and the mean price for a maisonette with pool:  \", df_sample[f_filter5].PriceE.mean() , \"€\")\n",
    "print('')\n",
    "f_filter6 = (df_sample['Maisonette']=='y')&(df_sample['Garage']=='y')\n",
    "print(\"For a maisonette with garage, there are\",len(df_sample[f_filter6].PriceE) ,\"choices\")\n",
    "print(\"and the mean price for a apartement with a garage:  \", df_sample[f_filter6].PriceE.mean() , \"€\")\n",
    "print('')\n",
    "print('')\n",
    "print('')\n",
    "\n",
    "\n",
    "\n",
    "\n",
    "\n",
    "#We can now have the mean of an habitation in Malte in function if it is a apartment, with...\n",
    "\n",
    "\n",
    "\n",
    "f_filter2 = df_sample['Apartment']=='y'\n",
    "print(\"For an appartment, there are\",len(df_sample[f_filter1].PriceE) ,\"choices\")\n",
    "print(\"and the mean price for a apartement:  \", df_sample[f_filter2].PriceE.mean() , \"€\")\n",
    "print('')\n",
    "f_filter3 = (df_sample['Apartment']=='y')&(df_sample['Pool']=='y')\n",
    "print(\"For an apartment with pool, there are\",len(df_sample[f_filter3].PriceE) ,\"choices\")\n",
    "print(\"and the mean price for a apartment with pool:  \", df_sample[f_filter3].PriceE.mean() , \"€\")\n",
    "print('')\n",
    "f_filter4 = (df_sample['Apartment']=='y')&(df_sample['Garage']=='y')\n",
    "print(\"For an apartment with garage, there are\",len(df_sample[f_filter4].PriceE) ,\"choices\")\n",
    "print(\"and the mean price for a apartement with a garage:  \", df_sample[f_filter4].PriceE.mean() , \"€\")\n",
    "\n",
    "\n",
    "\n",
    "\n",
    "\n",
    "\n",
    "\n",
    "\n",
    "\n",
    "\n",
    "\n"
   ]
  },
  {
   "cell_type": "code",
   "execution_count": 26,
   "metadata": {},
   "outputs": [
    {
     "name": "stdout",
     "output_type": "stream",
     "text": [
      "number of habitation offer in ATTARD per year\n"
     ]
    },
    {
     "ename": "NameError",
     "evalue": "name 'ATTARD' is not defined",
     "output_type": "error",
     "traceback": [
      "\u001b[0;31m---------------------------------------------------------------------------\u001b[0m",
      "\u001b[0;31mNameError\u001b[0m                                 Traceback (most recent call last)",
      "\u001b[0;32m<ipython-input-26-253f8004d0c9>\u001b[0m in \u001b[0;36m<module>\u001b[0;34m\u001b[0m\n\u001b[1;32m      5\u001b[0m \u001b[0;34m\u001b[0m\u001b[0m\n\u001b[1;32m      6\u001b[0m \u001b[0mYearsACount\u001b[0m \u001b[0;34m=\u001b[0m \u001b[0;34m[\u001b[0m\u001b[0;34m]\u001b[0m\u001b[0;34m\u001b[0m\u001b[0;34m\u001b[0m\u001b[0m\n\u001b[0;32m----> 7\u001b[0;31m \u001b[0;32mfor\u001b[0m \u001b[0mYear\u001b[0m \u001b[0;32min\u001b[0m \u001b[0mATTARD\u001b[0m\u001b[0;34m.\u001b[0m\u001b[0mYear\u001b[0m\u001b[0;34m:\u001b[0m\u001b[0;34m\u001b[0m\u001b[0;34m\u001b[0m\u001b[0m\n\u001b[0m\u001b[1;32m      8\u001b[0m     \u001b[0;32mif\u001b[0m \u001b[0mYear\u001b[0m \u001b[0;32mnot\u001b[0m \u001b[0;32min\u001b[0m \u001b[0mYearsA\u001b[0m\u001b[0;34m:\u001b[0m\u001b[0;34m\u001b[0m\u001b[0;34m\u001b[0m\u001b[0m\n\u001b[1;32m      9\u001b[0m         \u001b[0mYearsA\u001b[0m\u001b[0;34m.\u001b[0m\u001b[0mappend\u001b[0m\u001b[0;34m(\u001b[0m\u001b[0mYear\u001b[0m\u001b[0;34m)\u001b[0m\u001b[0;34m\u001b[0m\u001b[0;34m\u001b[0m\u001b[0m\n",
      "\u001b[0;31mNameError\u001b[0m: name 'ATTARD' is not defined"
     ]
    }
   ],
   "source": [
    "\n",
    "#Number of habitation per year in ATTARD\n",
    "YearsA = []\n",
    "\n",
    "print(\"number of habitation offer in ATTARD per year\")\n",
    "\n",
    "YearsACount = []\n",
    "for Year in ATTARD.Year:\n",
    "    if Year not in YearsA:\n",
    "        YearsA.append(Year)\n",
    "        YearsACount.append(1)\n",
    "    else:\n",
    "        YearsACount[YearsA.index(Year)]+=1\n",
    "plt.barh(range(len(YearsACount)), YearsACount,tick_label = YearsA)\n",
    "plt.show()\n",
    "\n",
    "print(YearsCount)\n"
   ]
  },
  {
   "cell_type": "code",
   "execution_count": 14,
   "metadata": {
    "scrolled": true
   },
   "outputs": [
    {
     "name": "stdout",
     "output_type": "stream",
     "text": [
      "number of habitation offer in Malta per year\n"
     ]
    },
    {
     "data": {
      "image/png": "[encoded data removed]",
      "text/plain": [
       "<Figure size 432x288 with 1 Axes>"
      ]
     },
     "metadata": {
      "needs_background": "light"
     },
     "output_type": "display_data"
    },
    {
     "name": "stdout",
     "output_type": "stream",
     "text": [
      "[30132, 23709, 32813, 23362]\n"
     ]
    }
   ],
   "source": [
    "\n",
    "#Number of habitation per year in ATTARD\n",
    "Years = []\n",
    "\n",
    "print(\"number of habitation offer in Malta per year\")\n",
    "\n",
    "YearsCount = []\n",
    "for Year in df.Year:\n",
    "    if Year not in Years:\n",
    "        Years.append(Year)\n",
    "        YearsCount.append(1)\n",
    "    else:\n",
    "        YearsCount[Years.index(Year)]+=1\n",
    "plt.barh(range(len(YearsCount)), YearsCount,tick_label = Years)\n",
    "plt.show()\n",
    "\n",
    "print(YearsCount)\n",
    "\n"
   ]
  },
  {
   "cell_type": "code",
   "execution_count": 15,
   "metadata": {
    "scrolled": true
   },
   "outputs": [
    {
     "name": "stdout",
     "output_type": "stream",
     "text": [
      "City\n",
      "                    280480.327869\n",
      " ANNE PULLICINO               NaN\n",
      " AREA                         NaN\n",
      " ATTARD             341166.666667\n",
      " BALZAN             305900.000000\n",
      "                        ...      \n",
      "ŻIRA                205000.000000\n",
      "ŻIRA AREA                     NaN\n",
      "ŻONQOR              294687.500000\n",
      "ŻURRIEQ             244095.425801\n",
      "ŻURRIEQ             110000.000000\n",
      "Name: PriceE, Length: 544, dtype: float64\n"
     ]
    }
   ],
   "source": [
    "#per year, what is the average price of habitation in malta\n",
    "groupby_mean = df.groupby(['City']).mean()\n",
    "print(groupby_mean.PriceE)\n",
    "\n",
    "\n",
    "\n"
   ]
  },
  {
   "cell_type": "code",
   "execution_count": 16,
   "metadata": {},
   "outputs": [
    {
     "data": {
      "image/png": "[encoded data removed]",
      "text/plain": [
       "<Figure size 432x288 with 1 Axes>"
      ]
     },
     "metadata": {
      "needs_background": "light"
     },
     "output_type": "display_data"
    }
   ],
   "source": [
    "groups = df.groupby([\"City\"])[\"PriceE\"].mean()\n",
    "groups.plot.bar(color=\"blue\")\n",
    "\n",
    "plt.gca().get_xaxis()\n",
    "plt.gca().xaxis\n",
    "axes = plt.gca()\n",
    "axes.xaxis.set_ticks(range(1))\n",
    "plt.tight_layout()\n",
    "axes.set_xlabel('Cities')\n",
    "axes.set_ylabel('mean prices')\n",
    "plt.title(\"Variation of prices in function of cities\")\n",
    "plt.show()\n",
    "\n",
    "\n"
   ]
  },
  {
   "cell_type": "code",
   "execution_count": 17,
   "metadata": {},
   "outputs": [
    {
     "data": {
      "text/plain": [
       "Text(0.5, 1.0, 'Variation of price with bars')"
      ]
     },
     "execution_count": 17,
     "metadata": {},
     "output_type": "execute_result"
    },
    {
     "data": {
      "image/png": "[encoded data removed]",
      "text/plain": [
       "<Figure size 432x288 with 1 Axes>"
      ]
     },
     "metadata": {
      "needs_background": "light"
     },
     "output_type": "display_data"
    }
   ],
   "source": [
    "graph = df.groupby([\"Year\"])[\"PriceE\"].mean()\n",
    "graph.plot.bar(color=\"blue\")\n",
    "plt.title(\"Variation of price with bars\")\n",
    "\n"
   ]
  },
  {
   "cell_type": "code",
   "execution_count": 18,
   "metadata": {},
   "outputs": [
    {
     "name": "stdout",
     "output_type": "stream",
     "text": [
      "Year\n",
      "2015    237838.222983\n",
      "2016    260175.606851\n",
      "2017    284513.190645\n",
      "2018    315118.013043\n",
      "Name: PriceE, dtype: float64\n"
     ]
    }
   ],
   "source": [
    "#per year, what is the average price of habitation in malta\n",
    "groupby_mean = df.groupby(['Year']).mean()\n",
    "print(groupby_mean.PriceE)\n",
    "\n"
   ]
  },
  {
   "cell_type": "code",
   "execution_count": 19,
   "metadata": {},
   "outputs": [
    {
     "data": {
      "image/png": "[encoded data removed]",
      "text/plain": [
       "<Figure size 432x288 with 1 Axes>"
      ]
     },
     "metadata": {
      "needs_background": "light"
     },
     "output_type": "display_data"
    }
   ],
   "source": [
    "plt.title(\"Variation of price per year \")\n",
    "graph = df.groupby([\"Year\"])[\"PriceE\"].mean()\n",
    "graph.plot(color=\"red\")\n",
    "\n",
    "#we verify that it is the same values\n",
    "plt.plot([2015,2016,2017,2018], [237838.222983,260175.606851,284513.190645,315118.013043],'.')\n",
    "\n",
    "plt.xlabel('Year')\n",
    "plt.ylabel('Price')\n",
    "plt.show()"
   ]
  },
  {
   "cell_type": "code",
   "execution_count": 24,
   "metadata": {},
   "outputs": [
    {
     "data": {
      "image/png": "[encoded data removed]",
      "text/plain": [
       "<Figure size 432x288 with 1 Axes>"
      ]
     },
     "metadata": {
      "needs_background": "light"
     },
     "output_type": "display_data"
    },
    {
     "name": "stdout",
     "output_type": "stream",
     "text": [
      "the expensive Malta's offer is  6790000.0 €\n",
      "the mean Malta's offer is  275041.42628506274 €\n"
     ]
    }
   ],
   "source": [
    "# Plot distribution\n",
    "hist = df['PriceE'].hist(range=(0,1000000), bins=100)\n",
    "hist.plot()\n",
    "plt.title(\"The mean of Malta's Prices\")\n",
    "plt.xlabel(\"Prices\")\n",
    "plt.ylabel(\"Number of habitation offer\")\n",
    "\n",
    "avg = df.PriceE.mean()\n",
    "plt.axvline(x=avg, color='red')\n",
    "plt.legend([\"Mean\"])\n",
    "plt.show()\n",
    "\n",
    "print(\"the expensive Malta's offer is \", df.PriceE.max() , \"€\")\n",
    "print(\"the mean Malta's offer is \" , df.PriceE.mean(), \"€\")"
   ]
  },
  {
   "cell_type": "code",
   "execution_count": null,
   "metadata": {},
   "outputs": [],
   "source": []
  },
  {
   "cell_type": "code",
   "execution_count": null,
   "metadata": {},
   "outputs": [],
   "source": []
  }
 ],
 "metadata": {
  "kernelspec": {
   "display_name": "Python 3",
   "language": "python",
   "name": "python3"
  },
  "language_info": {
   "codemirror_mode": {
    "name": "ipython",
    "version": 3
   },
   "file_extension": ".py",
   "mimetype": "text/x-python",
   "name": "python",
   "nbconvert_exporter": "python",
   "pygments_lexer": "ipython3",
   "version": "3.8.3"
  }
 },
 "nbformat": 4,
 "nbformat_minor": 2
}
